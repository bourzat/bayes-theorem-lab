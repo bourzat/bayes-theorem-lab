{
 "cells": [
  {
   "cell_type": "markdown",
   "metadata": {},
   "source": [
    "# Bayes' Theorem - Lab\n",
    "\n",
    "## Introduction\n",
    "\n",
    "In this lab, you'll practice Bayes' Theorem in some simple word problems. \n",
    "\n",
    "## Objectives\n",
    "In this lab you will be able to: \n",
    "\n",
    "- Use Bayes' theorem to determine the probability of specific events "
   ]
  },
  {
   "cell_type": "markdown",
   "metadata": {},
   "source": [
    "## Define a custom function for Bayes' theorem\n",
    "\n",
    "To start, write a function, `bayes()`, which takes in the probability of A, the probability of B, and the probability of B given A. From this, the function should then return the conditional probability of A, given that B is true."
   ]
  },
  {
   "cell_type": "code",
   "execution_count": 2,
   "metadata": {},
   "outputs": [],
   "source": [
    "def bayes(P_a, P_b, P_b_given_a):\n",
    "    # Calculate P(A given B) using Bayes' theorem\n",
    "    P_not_a = 1 - P_a  # Probability of not A\n",
    "    P_b_given_not_a = 1 - P_b_given_a  # Probability of B given not A\n",
    "    \n",
    "    # Calculate P(B) using law of total probability\n",
    "    P_b_total = P_b_given_a * P_a + P_b_given_not_a * P_not_a\n",
    "    \n",
    "    # Calculate P(A given B) using Bayes' theorem\n",
    "    P_a_given_b = (P_b_given_a * P_a) / P_b_total\n",
    "    \n",
    "    return P_a_given_b"
   ]
  },
  {
   "cell_type": "markdown",
   "metadata": {},
   "source": [
    "## Skin Cancer\n",
    "\n",
    "After a physical exam, a doctor observes a blemish on a client's arm. The doctor is concerned that the blemish could be cancerous, but tells the patient to be calm and that it's probably benign. Of those with skin cancer, 100% have such blemishes. However, 20% of those without skin cancer also have such blemishes. If 15% of the population has skin cancer, what's the probability that this patient has skin cancer? \n",
    "\n",
    "> Hint: Be sure to calculate the overall rate of blemishes across the entire population."
   ]
  },
  {
   "cell_type": "code",
   "execution_count": 3,
   "metadata": {},
   "outputs": [
    {
     "name": "stdout",
     "output_type": "stream",
     "text": [
      "The probability that the patient has skin cancer given a blemish is: 0.0423\n"
     ]
    }
   ],
   "source": [
    "# Your code here\n",
    "# Given data from the problem\n",
    "P_skin_cancer = 0.15\n",
    "P_not_skin_cancer = 1 - P_skin_cancer\n",
    "P_blemish_given_skin_cancer = 1.0\n",
    "P_blemish_given_not_skin_cancer = 0.20\n",
    "\n",
    "# Calculate the probability of skin cancer given blemish using the bayes function\n",
    "P_skin_cancer_given_blemish = bayes(P_skin_cancer, \n",
    "                                   P_blemish_given_skin_cancer, \n",
    "                                   P_blemish_given_not_skin_cancer)\n",
    "\n",
    "print(f\"The probability that the patient has skin cancer given a blemish is: {P_skin_cancer_given_blemish:.4f}\")\n"
   ]
  },
  {
   "cell_type": "markdown",
   "metadata": {},
   "source": [
    "## Children\n",
    "\n",
    "A couple has two children, the older of which is a boy. What is the probability that they have two boys?"
   ]
  },
  {
   "cell_type": "code",
   "execution_count": 4,
   "metadata": {},
   "outputs": [
    {
     "name": "stdout",
     "output_type": "stream",
     "text": [
      "The probability that a patient has the disease given a positive test is: 0.0001\n"
     ]
    }
   ],
   "source": [
    "# Your solution P(2boys|older child is a boy)\n",
    "# Given data for diagnostic test problem\n",
    "P_disease = 0.01  # Probability of having the disease\n",
    "P_not_disease = 1 - P_disease  # Probability of not having the disease\n",
    "P_positive_given_disease = 0.99  # Probability of testing positive given the disease\n",
    "P_positive_given_not_disease = 0.01  # Probability of testing positive given not having the disease\n",
    "\n",
    "# Calculate the probability of having the disease given a positive test\n",
    "P_disease_given_positive = bayes(P_disease, \n",
    "                                 P_positive_given_disease, \n",
    "                                 P_positive_given_not_disease)\n",
    "\n",
    "print(f\"The probability that a patient has the disease given a positive test is: {P_disease_given_positive:.4f}\")\n"
   ]
  },
  {
   "cell_type": "markdown",
   "metadata": {},
   "source": [
    "## A diagnostic test\n",
    "\n",
    "A diagnostic test is advertised as being 99% accurate \n",
    "\n",
    "* If a patient has the disease, they  will test positive 99% of the time \n",
    "\n",
    "* If they don't have the disease, they will test negative 99% of the time  \n",
    "\n",
    "* 1% of all people have this disease \n",
    "\n",
    "If a patient tests positive, what is the probability that they actually have the disease?"
   ]
  },
  {
   "cell_type": "code",
   "execution_count": 7,
   "metadata": {},
   "outputs": [],
   "source": [
    "# Your solution P(Disease | positive test)"
   ]
  },
  {
   "cell_type": "markdown",
   "metadata": {},
   "source": [
    "## Summary \n",
    "\n",
    "In this lab, you practiced a few simple examples of Bayesian logic and how you can add prior information to update your beliefs about the chance of events."
   ]
  }
 ],
 "metadata": {
  "kernelspec": {
   "display_name": "Python 3 (ipykernel)",
   "language": "python",
   "name": "python3"
  },
  "language_info": {
   "codemirror_mode": {
    "name": "ipython",
    "version": 3
   },
   "file_extension": ".py",
   "mimetype": "text/x-python",
   "name": "python",
   "nbconvert_exporter": "python",
   "pygments_lexer": "ipython3",
   "version": "3.9.19"
  }
 },
 "nbformat": 4,
 "nbformat_minor": 4
}
